{
 "cells": [
  {
   "cell_type": "code",
   "execution_count": null,
   "metadata": {},
   "outputs": [],
   "source": [
    "import sys\n",
    "from pathlib import Path\n",
    "\n",
    "# Add the 'backtest' directory to the system path\n",
    "notebook_dir = Path().resolve()\n",
    "backtest_dir = notebook_dir.parent / 'backtest'\n",
    "sys.path.append(str(backtest_dir))"
   ]
  },
  {
   "cell_type": "code",
   "execution_count": null,
   "metadata": {},
   "outputs": [],
   "source": [
    "import pandas as pd\n",
    "from backtest import Backtest, Strategy, TradeAction"
   ]
  },
  {
   "cell_type": "code",
   "execution_count": null,
   "metadata": {},
   "outputs": [],
   "source": [
    "# First run the get_data.ipynb notebook to generate the data file\n",
    "# or use the code from get_data.ipynb here to download the data directly\n",
    "\n",
    "# Read the OHLCV data from data/BTCUSDT.csv\n",
    "# Use small subset of data for easier analysis\n",
    "data = pd.read_csv('data/BTCUSDT.csv', index_col='Date', parse_dates=True)"
   ]
  },
  {
   "cell_type": "code",
   "execution_count": null,
   "metadata": {},
   "outputs": [],
   "source": [
    "class MeanReversionStrategy(Strategy):\n",
    "    def __init__(self):\n",
    "        self.sma_period = 50\n",
    "        self.zscore_threshold = 2\n",
    "    \n",
    "    def on_candle(self, historical_data, positions_list):\n",
    "        df = historical_data.copy()\n",
    "\n",
    "        # not enough data\n",
    "        if(len(df) < self.sma_period):\n",
    "            return []\n",
    "        \n",
    "        # Calculate the simple moving average\n",
    "        df.loc[:, 'sma'] = df['Close'].rolling(window=self.sma_period).mean()\n",
    "        df.loc[:, 'stdev'] = df['Close'].rolling(window=self.sma_period).std()\n",
    "\n",
    "        # Check if for some reason the last stdev is NaN or 0\n",
    "        if pd.isna(df.iloc[-1]['stdev']) or df.iloc[-1]['stdev'] == 0:\n",
    "            return []\n",
    "\n",
    "        zScore = (df.iloc[-1]['Close'] - df.iloc[-1]['sma']) / df.iloc[-1]['stdev']\n",
    "\n",
    "        # I should really start sending only open positions to the strategy\n",
    "        # but I will probably remove multiple positions completely anyway\n",
    "        open_positions = [pos for pos in positions_list if pos.exit_time is None]\n",
    "\n",
    "        if(zScore > self.zscore_threshold):\n",
    "            # Check if we have an open position\n",
    "            if self.has_short_positions(open_positions):\n",
    "                return []\n",
    "            # Otherwise close all open positions and open a new short position\n",
    "            return [TradeAction(action=\"enter\", quantity=-0.5)] + [\n",
    "                TradeAction(action=\"exit\", position_id=pos.id) for pos in open_positions\n",
    "            ]\n",
    "        elif(zScore < -self.zscore_threshold):\n",
    "            # Check if we have an open position\n",
    "            if self.has_long_positions(open_positions):\n",
    "                return []\n",
    "            # Otherwise close all positions and open a new long position\n",
    "            return [TradeAction(action=\"enter\", quantity=0.5)] + [\n",
    "                TradeAction(action=\"exit\", position_id=pos.id) for pos in open_positions\n",
    "            ]\n",
    "        # No action\n",
    "        return []\n",
    "    \n",
    "    def has_short_positions(self, open_positions):\n",
    "        return any([pos for pos in open_positions if pos.quantity < 0])\n",
    "    \n",
    "    def has_long_positions(self, open_positions):\n",
    "        return any([pos for pos in open_positions if pos.quantity > 0])"
   ]
  },
  {
   "cell_type": "code",
   "execution_count": null,
   "metadata": {},
   "outputs": [],
   "source": [
    "backtest = Backtest(data, MeanReversionStrategy, equity=100000.0)\n",
    "\n",
    "backtest.run()\n",
    "\n",
    "backtest.pnl_df"
   ]
  },
  {
   "cell_type": "code",
   "execution_count": null,
   "metadata": {},
   "outputs": [],
   "source": [
    "stats = backtest.stats()"
   ]
  },
  {
   "cell_type": "code",
   "execution_count": null,
   "metadata": {},
   "outputs": [],
   "source": [
    "# Extract long positions (quantity >= 0 or value >= 0)\n",
    "long_positions = [pos for pos in backtest.positions if pos.quantity >= 0]\n",
    "# Create a series of long positions entry \"Open\" prices from backtest.pnl_df\n",
    "long_entry_series = backtest.pnl_df.loc[[pos.entry_time for pos in long_positions], 'Open']\n",
    "\n",
    "# Extract short positions (quantity < 0 or value < 0)\n",
    "short_positions = [pos for pos in backtest.positions if pos.quantity < 0]\n",
    "# Create a series of short position entry \"Open\" prices from backtest.pnl_df\n",
    "short_entry_series = backtest.pnl_df.loc[[pos.entry_time for pos in short_positions], 'Open']"
   ]
  },
  {
   "cell_type": "code",
   "execution_count": null,
   "metadata": {},
   "outputs": [],
   "source": [
    "from matplotlib import pyplot as plt\n",
    "\n",
    "df = backtest.pnl_df\n",
    "\n",
    "plt.figure(figsize=(14, 6))\n",
    "plt.plot(df['Open'], label=\"Open Price\", alpha=0.7)\n",
    "\n",
    "plt.scatter(long_entry_series.index, long_entry_series, marker='^', color=\"green\", label=\"Long\", s=100)\n",
    "\n",
    "plt.scatter(short_entry_series.index, short_entry_series, marker='v', color=\"red\", label=\"Short\", s=100)\n",
    "\n",
    "for idx, price in long_entry_series.items():\n",
    "    plt.annotate(idx.strftime('%Y-%m-%d'), xy=(idx, price), xytext=(0, 10), \n",
    "                 textcoords='offset points', ha='center', fontsize=8, color='green')\n",
    "    \n",
    "for idx, price in short_entry_series.items():\n",
    "    plt.annotate(idx.strftime('%Y-%m-%d'), xy=(idx, price), xytext=(0, -15), \n",
    "                 textcoords='offset points', ha='center', fontsize=8, color='red')\n",
    "\n",
    "plt.title(\"BTC/USDT with Long/Short Entry Points\")\n",
    "plt.xlabel('Date')\n",
    "plt.ylabel('Price (USDT)')\n",
    "plt.legend()\n",
    "plt.grid(True)\n",
    "plt.show()\n",
    "\n",
    "# Plot the Total PnL\n",
    "plt.figure(figsize=(14, 2))\n",
    "plt.plot(df['total_pnl'], label=\"Total PnL\")\n",
    "plt.title(\"Total PnL Over Time\")\n",
    "plt.xlabel('Date')\n",
    "plt.ylabel('Total PnL (USDT)')\n",
    "plt.legend()\n",
    "plt.grid(True)\n",
    "plt.show()\n",
    "\n",
    "# Plot the Z-Score\n",
    "df['sma'] = df['Close'].rolling(backtest.strategy.sma_period).mean()\n",
    "df['stdev'] = df['Close'].rolling(backtest.strategy.sma_period).std()\n",
    "\n",
    "df['zScore'] = (df['Close'] - df['sma']) / df['Close'].rolling(backtest.strategy.sma_period).std()\n",
    "df['zScore'] = df['zScore'].fillna(0)\n",
    "\n",
    "plt.figure(figsize=(14, 2))\n",
    "plt.plot(df['zScore'], label=\"Z-Score\")\n",
    "plt.title(\"Z-Score Over Time\")\n",
    "plt.xlabel('Date')\n",
    "plt.ylabel('Z-Score')\n",
    "plt.legend()\n",
    "plt.grid(True)\n",
    "plt.show()"
   ]
  },
  {
   "cell_type": "code",
   "execution_count": null,
   "metadata": {},
   "outputs": [],
   "source": []
  }
 ],
 "metadata": {
  "kernelspec": {
   "display_name": "quant-demo",
   "language": "python",
   "name": "python3"
  },
  "language_info": {
   "codemirror_mode": {
    "name": "ipython",
    "version": 3
   },
   "file_extension": ".py",
   "mimetype": "text/x-python",
   "name": "python",
   "nbconvert_exporter": "python",
   "pygments_lexer": "ipython3",
   "version": "3.10.16"
  }
 },
 "nbformat": 4,
 "nbformat_minor": 2
}
