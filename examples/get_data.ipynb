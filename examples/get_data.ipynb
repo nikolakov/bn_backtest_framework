{
 "cells": [
  {
   "cell_type": "code",
   "execution_count": null,
   "metadata": {},
   "outputs": [],
   "source": [
    "import pandas as pd\n",
    "from binance.client import Client\n",
    "\n",
    "# Initialize the Binance client\n",
    "client = Client()"
   ]
  },
  {
   "cell_type": "code",
   "execution_count": null,
   "metadata": {},
   "outputs": [],
   "source": [
    "def fetch_ohlcv(symbol='BTCUSDT', interval='1d', start_str='1 Jan 2020'):\n",
    "    klines = client.get_historical_klines(symbol, interval, start_str)\n",
    "    df = pd.DataFrame(klines, columns=[\n",
    "        'Date', 'Open', 'High', 'Low', 'Close', 'Volume',\n",
    "        'close_time', 'quote_asset_volume', 'num_trades',\n",
    "        'taker_buy_base_volume', 'taker_buy_quote_volume', 'ignore'\n",
    "    ])\n",
    "    df = df[['Date', 'Open', 'High', 'Low', 'Close', 'Volume']]\n",
    "    df['Date'] = pd.to_datetime(df['Date'], unit='ms')\n",
    "    df.set_index('Date', inplace=True)\n",
    "    df = df.astype(float)\n",
    "    return df"
   ]
  },
  {
   "cell_type": "code",
   "execution_count": null,
   "metadata": {},
   "outputs": [],
   "source": [
    "data = fetch_ohlcv('BTCUSDT', '1d', '1 Jan 2020')\n",
    "\n",
    "data.to_csv('data/BTCUSDT.csv')"
   ]
  }
 ],
 "metadata": {
  "kernelspec": {
   "display_name": "quant-demo",
   "language": "python",
   "name": "python3"
  },
  "language_info": {
   "codemirror_mode": {
    "name": "ipython",
    "version": 3
   },
   "file_extension": ".py",
   "mimetype": "text/x-python",
   "name": "python",
   "nbconvert_exporter": "python",
   "pygments_lexer": "ipython3",
   "version": "3.10.16"
  }
 },
 "nbformat": 4,
 "nbformat_minor": 2
}
