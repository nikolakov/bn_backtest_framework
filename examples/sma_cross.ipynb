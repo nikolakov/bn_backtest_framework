{
 "cells": [
  {
   "cell_type": "code",
   "execution_count": null,
   "metadata": {},
   "outputs": [],
   "source": [
    "import sys\n",
    "from pathlib import Path\n",
    "\n",
    "# Add the 'backtest' directory to the system path\n",
    "notebook_dir = Path().resolve()\n",
    "backtest_dir = notebook_dir.parent / 'backtest'\n",
    "sys.path.append(str(backtest_dir))"
   ]
  },
  {
   "cell_type": "code",
   "execution_count": null,
   "metadata": {},
   "outputs": [],
   "source": [
    "import pandas as pd\n",
    "from backtest import Backtest, Strategy, TradeAction"
   ]
  },
  {
   "cell_type": "code",
   "execution_count": null,
   "metadata": {},
   "outputs": [],
   "source": [
    "# First run the get_data.ipynb notebook to generate the data file\n",
    "# or copy the code from get_data.ipynb here to download the data directly\n",
    "\n",
    "# Read the OHLCV data from data/BTCUSDT.csv\n",
    "data = pd.read_csv('data/BTCUSDT.csv', index_col='Date', parse_dates=True)"
   ]
  },
  {
   "cell_type": "code",
   "execution_count": null,
   "metadata": {},
   "outputs": [],
   "source": [
    "class SmaCrossStrategy(Strategy):\n",
    "\n",
    "    def __init__(self):\n",
    "        self.sma_short = 10\n",
    "        self.sma_long = 40\n",
    "\n",
    "    def on_candle(self, historical_data, positions_list):\n",
    "        open_positions = [p for p in positions_list if p.exit_time is None]\n",
    "        data_with_smas = self.get_data_with_smas(historical_data)\n",
    "        if self.has_positive_crossing(data_with_smas):\n",
    "            # Open a long position\n",
    "            trade_actions = [TradeAction(action=\"enter\", quantity=1)]\n",
    "            # Close any existing positions\n",
    "            if len(open_positions) > 0:\n",
    "                trade_actions += [\n",
    "                    TradeAction(action=\"exit\", position_id=pos.id)\n",
    "                    for pos in open_positions\n",
    "                ]\n",
    "            return trade_actions\n",
    "        elif self.has_negative_crossing(data_with_smas):\n",
    "            # Open a short position\n",
    "            trade_actions = [TradeAction(action=\"enter\", quantity=-1)]\n",
    "            # Close any existing positions\n",
    "            if len(open_positions) > 0:\n",
    "                trade_actions += [\n",
    "                    TradeAction(action=\"exit\", position_id=pos.id)\n",
    "                    for pos in open_positions\n",
    "                ]\n",
    "            return trade_actions\n",
    "        return []\n",
    "    \n",
    "    def get_data_with_smas(self, df: pd.DataFrame) -> pd.DataFrame:\n",
    "        df = df.copy()\n",
    "        df.loc[:, \"sma_short\"] = df[\"Close\"].rolling(window=self.sma_short).mean()\n",
    "        df.loc[:, \"sma_long\"] = df[\"Close\"].rolling(window=self.sma_long).mean()\n",
    "        return df\n",
    "\n",
    "    def has_positive_crossing(self, df: pd.DataFrame) -> bool:\n",
    "        if len(df) < self.sma_long:\n",
    "            return False\n",
    "        last_data = df.iloc[-1]\n",
    "        prev_data = df.iloc[-2]\n",
    "        return (last_data[\"sma_short\"] > last_data[\"sma_long\"]) & (\n",
    "            prev_data[\"sma_short\"] <= prev_data[\"sma_long\"]\n",
    "        )\n",
    "\n",
    "    def has_negative_crossing(self, df: pd.DataFrame) -> bool:\n",
    "        if len(df) < self.sma_long:\n",
    "            return False\n",
    "        last_data = df.iloc[-1]\n",
    "        prev_data = df.iloc[-2]\n",
    "        return (last_data[\"sma_short\"] < last_data[\"sma_long\"]) & (\n",
    "            prev_data[\"sma_short\"] >= prev_data[\"sma_long\"]\n",
    "        )"
   ]
  },
  {
   "cell_type": "code",
   "execution_count": null,
   "metadata": {},
   "outputs": [],
   "source": [
    "backtest = Backtest(data, SmaCrossStrategy)\n",
    "\n",
    "backtest.run()\n",
    "\n",
    "backtest.pnl_df"
   ]
  },
  {
   "cell_type": "code",
   "execution_count": null,
   "metadata": {},
   "outputs": [],
   "source": [
    "stats = backtest.stats()"
   ]
  },
  {
   "cell_type": "code",
   "execution_count": null,
   "metadata": {},
   "outputs": [],
   "source": [
    "# Extract long positions (quantity >= 0 or value >= 0)\n",
    "long_positions = [pos for pos in backtest.positions if pos.quantity >= 0]\n",
    "# Create a series of long positions entry \"Open\" prices from backtest.pnl_df\n",
    "long_entry_series = backtest.pnl_df.loc[[pos.entry_time for pos in long_positions], 'Open']\n",
    "\n",
    "# Extract short positions (quantity < 0 or value < 0)\n",
    "short_positions = [pos for pos in backtest.positions if pos.quantity < 0]\n",
    "# Create a series of short position entry \"Open\" prices from backtest.pnl_df\n",
    "short_entry_series = backtest.pnl_df.loc[[pos.entry_time for pos in short_positions], 'Open']"
   ]
  },
  {
   "cell_type": "code",
   "execution_count": null,
   "metadata": {},
   "outputs": [],
   "source": [
    "from matplotlib import pyplot as plt\n",
    "\n",
    "df = backtest.pnl_df\n",
    "\n",
    "plt.figure(figsize=(14, 6))\n",
    "plt.plot(df['Open'], label=\"Open Price\", alpha=0.7)\n",
    "\n",
    "plt.scatter(long_entry_series.index, long_entry_series, marker='^', color=\"green\", label=\"Long\", s=100)\n",
    "\n",
    "plt.scatter(short_entry_series.index, short_entry_series, marker='v', color=\"red\", label=\"Short\", s=100)\n",
    "\n",
    "for idx, price in long_entry_series.items():\n",
    "    plt.annotate(idx.strftime('%Y-%m-%d'), xy=(idx, price), xytext=(0, 10), \n",
    "                 textcoords='offset points', ha='center', fontsize=8, color='green')\n",
    "    \n",
    "for idx, price in short_entry_series.items():\n",
    "    plt.annotate(idx.strftime('%Y-%m-%d'), xy=(idx, price), xytext=(0, -15), \n",
    "                 textcoords='offset points', ha='center', fontsize=8, color='red')\n",
    "\n",
    "plt.title(\"BTC/USDT with Long/Short Entry Points\")\n",
    "plt.xlabel('Date')\n",
    "plt.ylabel('Price (USDT)')\n",
    "plt.legend()\n",
    "plt.grid(True)\n",
    "plt.show()\n",
    "\n",
    "# Plot the Total PnL\n",
    "plt.figure(figsize=(14, 2))\n",
    "plt.plot(df['total_pnl'], label=\"Total PnL\", alpha=0.7)\n",
    "plt.title(\"Total PnL Over Time\")\n",
    "plt.xlabel('Date')\n",
    "plt.ylabel('Total PnL (USDT)')\n",
    "plt.legend()\n",
    "plt.grid(True)\n",
    "plt.show()"
   ]
  },
  {
   "cell_type": "code",
   "execution_count": null,
   "metadata": {},
   "outputs": [],
   "source": []
  }
 ],
 "metadata": {
  "kernelspec": {
   "display_name": "quant-demo",
   "language": "python",
   "name": "python3"
  },
  "language_info": {
   "codemirror_mode": {
    "name": "ipython",
    "version": 3
   },
   "file_extension": ".py",
   "mimetype": "text/x-python",
   "name": "python",
   "nbconvert_exporter": "python",
   "pygments_lexer": "ipython3",
   "version": "3.10.16"
  }
 },
 "nbformat": 4,
 "nbformat_minor": 2
}
