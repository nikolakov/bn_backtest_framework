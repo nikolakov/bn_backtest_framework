{
 "cells": [
  {
   "cell_type": "code",
   "execution_count": null,
   "metadata": {},
   "outputs": [],
   "source": [
    "import sys\n",
    "from pathlib import Path\n",
    "\n",
    "# Add the 'backtest' directory to the system path\n",
    "notebook_dir = Path().resolve()\n",
    "backtest_dir = notebook_dir.parent / 'backtest'\n",
    "sys.path.append(str(backtest_dir))"
   ]
  },
  {
   "cell_type": "code",
   "execution_count": null,
   "metadata": {},
   "outputs": [],
   "source": [
    "import pandas as pd\n",
    "from backtest import Backtest, Strategy, Order"
   ]
  },
  {
   "cell_type": "code",
   "execution_count": null,
   "metadata": {},
   "outputs": [],
   "source": [
    "# First run the get_data.ipynb notebook to generate the data file\n",
    "# or use the code from get_data.ipynb here to download the data directly\n",
    "\n",
    "# Read the OHLCV data from data/BTCUSDT.csv\n",
    "# Use small subset of data for easier analysis\n",
    "data = pd.read_csv('data/BTCUSDT.csv', index_col='Date', parse_dates=True).loc['2025-01-01':]"
   ]
  },
  {
   "cell_type": "code",
   "execution_count": null,
   "metadata": {},
   "outputs": [],
   "source": [
    "class BuyOnDateStrategy(Strategy):\n",
    "    \"\"\"\n",
    "    A strategy that buys on a specific date and sells after a certain number of days.\n",
    "    \"\"\"\n",
    "\n",
    "    def __init__(self):\n",
    "        self.buy_date = pd.Timestamp(\"2025-02-01\")\n",
    "        self.sell_date = pd.Timestamp(\"2025-03-01\")\n",
    "\n",
    "    def on_candle(self, historical_data, positions_book):\n",
    "        if historical_data.index[-1] == self.buy_date:\n",
    "            return [Order(action=\"enter\", value=10000.0)]\n",
    "        elif historical_data.index[-1] == self.sell_date:\n",
    "            return positions_book.close()\n",
    "        return []"
   ]
  },
  {
   "cell_type": "code",
   "execution_count": null,
   "metadata": {},
   "outputs": [],
   "source": [
    "backtest = Backtest(data, BuyOnDateStrategy, equity=20000.0)\n",
    "\n",
    "backtest.run()\n",
    "\n",
    "backtest.pnl_df"
   ]
  },
  {
   "cell_type": "code",
   "execution_count": null,
   "metadata": {},
   "outputs": [],
   "source": [
    "stats = backtest.stats()"
   ]
  },
  {
   "cell_type": "code",
   "execution_count": null,
   "metadata": {},
   "outputs": [],
   "source": [
    "# Create a series of \"Open\" prices at entry dates from backtest.pnl_df\n",
    "entry_series = backtest.pnl_df.loc[[pos.entry_time for pos in backtest.positions], 'Open']\n",
    "\n",
    "# Create a series of \"Open\" prices at exit dates from backtest.pnl_df\n",
    "exited_positions = [pos for pos in backtest.positions if pos.exit_time is not None]\n",
    "exit_series = backtest.pnl_df.loc[[pos.exit_time for pos in exited_positions], 'Open']\n"
   ]
  },
  {
   "cell_type": "code",
   "execution_count": null,
   "metadata": {},
   "outputs": [],
   "source": [
    "from matplotlib import pyplot as plt\n",
    "\n",
    "df = backtest.pnl_df\n",
    "\n",
    "plt.figure(figsize=(14, 6))\n",
    "plt.plot(df['Open'], label=\"Open Price\", alpha=0.7)\n",
    "\n",
    "plt.scatter(entry_series.index, entry_series, marker='^', color=\"green\", label=\"Buy\", s=100)\n",
    "\n",
    "plt.scatter(exit_series.index, exit_series, marker='v', color=\"red\", label=\"Sell\", s=100)\n",
    "\n",
    "for idx, price in entry_series.items():\n",
    "    plt.annotate(idx.strftime('%Y-%m-%d'), xy=(idx, price), xytext=(0, 10), \n",
    "                 textcoords='offset points', ha='center', fontsize=8, color='green')\n",
    "    \n",
    "for idx, price in exit_series.items():\n",
    "    plt.annotate(idx.strftime('%Y-%m-%d'), xy=(idx, price), xytext=(0, -15), \n",
    "                 textcoords='offset points', ha='center', fontsize=8, color='red')\n",
    "\n",
    "plt.title(\"BTC/USDT with Buy/Sell Signals\")\n",
    "plt.xlabel('Date')\n",
    "plt.ylabel('Price (USDT)')\n",
    "plt.legend()\n",
    "plt.grid(True)\n",
    "plt.show()\n",
    "\n",
    "# Plot the Total PnL\n",
    "plt.figure(figsize=(14, 2))\n",
    "plt.plot(df['total_pnl'], label=\"Total PnL\", alpha=0.7)\n",
    "plt.title(\"Total PnL Over Time\")\n",
    "plt.xlabel('Date')\n",
    "plt.ylabel('Total PnL (USDT)')\n",
    "plt.legend()\n",
    "plt.grid(True)\n",
    "plt.show()"
   ]
  },
  {
   "cell_type": "code",
   "execution_count": null,
   "metadata": {},
   "outputs": [],
   "source": []
  }
 ],
 "metadata": {
  "kernelspec": {
   "display_name": "quant-demo",
   "language": "python",
   "name": "python3"
  },
  "language_info": {
   "codemirror_mode": {
    "name": "ipython",
    "version": 3
   },
   "file_extension": ".py",
   "mimetype": "text/x-python",
   "name": "python",
   "nbconvert_exporter": "python",
   "pygments_lexer": "ipython3",
   "version": "3.10.16"
  }
 },
 "nbformat": 4,
 "nbformat_minor": 2
}
