{
 "cells": [
  {
   "cell_type": "code",
   "execution_count": 1,
   "metadata": {},
   "outputs": [],
   "source": [
    "import sys\n",
    "from pathlib import Path\n",
    "\n",
    "# Add the 'backtest' directory to the system path\n",
    "notebook_dir = Path().resolve()\n",
    "backtest_dir = notebook_dir.parent / 'backtest'\n",
    "sys.path.append(str(backtest_dir))"
   ]
  },
  {
   "cell_type": "code",
   "execution_count": 2,
   "metadata": {},
   "outputs": [],
   "source": [
    "import pandas as pd\n",
    "from backtest import Backtest, Strategy, TradeAction"
   ]
  },
  {
   "cell_type": "code",
   "execution_count": 3,
   "metadata": {},
   "outputs": [],
   "source": [
    "# First run the get_data.ipynb notebook to generate the data file\n",
    "# or use the code from get_data.ipynb here to download the data directly\n",
    "\n",
    "# Read the OHLCV data from data/BTCUSDT.csv\n",
    "# Use small subset of data for easier analysis\n",
    "data = pd.read_csv('data/BTCUSDT.csv', index_col='Date', parse_dates=True).loc['2025-01-01':]"
   ]
  },
  {
   "cell_type": "code",
   "execution_count": null,
   "metadata": {},
   "outputs": [],
   "source": [
    "class BuyOnDateStrategy(Strategy):\n",
    "    \"\"\"\n",
    "    A strategy that buys on a specific date and sells after a certain number of days.\n",
    "    \"\"\"\n",
    "\n",
    "    def __init__(self):\n",
    "        self.buy_date = pd.Timestamp(\"2025-02-01\")\n",
    "        self.sell_date = pd.Timestamp(\"2025-03-01\")\n",
    "\n",
    "    def on_candle(self, historical_data, positions_list):\n",
    "        if historical_data.index[-1] == pd.to_datetime(\"2025-02-01\"):\n",
    "            return [TradeAction(action=\"enter\", value=10000)]\n",
    "        elif historical_data.index[-1] == pd.to_datetime(\"2025-03-01\"):\n",
    "            open_positions = [p for p in positions_list if p.exit_time is None]\n",
    "            return [\n",
    "                TradeAction(action=\"exit\", position_id=pos.id) for pos in open_positions\n",
    "            ]\n",
    "        return []"
   ]
  },
  {
   "cell_type": "code",
   "execution_count": 16,
   "metadata": {},
   "outputs": [
    {
     "name": "stdout",
     "output_type": "stream",
     "text": [
      "Opening position: 0.09936835511388309 units\n",
      "Closing position: 1\n"
     ]
    },
    {
     "data": {
      "application/vnd.microsoft.datawrangler.viewer.v0+json": {
       "columns": [
        {
         "name": "Date",
         "rawType": "datetime64[ns]",
         "type": "datetime"
        },
        {
         "name": "Open",
         "rawType": "float64",
         "type": "float"
        },
        {
         "name": "High",
         "rawType": "float64",
         "type": "float"
        },
        {
         "name": "Low",
         "rawType": "float64",
         "type": "float"
        },
        {
         "name": "Close",
         "rawType": "float64",
         "type": "float"
        },
        {
         "name": "Volume",
         "rawType": "float64",
         "type": "float"
        },
        {
         "name": "pos-1-pnl",
         "rawType": "float64",
         "type": "float"
        },
        {
         "name": "total_pnl",
         "rawType": "float64",
         "type": "float"
        }
       ],
       "conversionMethod": "pd.DataFrame",
       "ref": "1eca9d50-4ee4-4339-90ce-fecf51da6e00",
       "rows": [
        [
         "2025-01-01 00:00:00",
         "93576.0",
         "95151.15",
         "92888.0",
         "94591.79",
         "10373.32613",
         "0.0",
         "0.0"
        ],
        [
         "2025-01-02 00:00:00",
         "94591.78",
         "97839.5",
         "94392.0",
         "96984.79",
         "21970.48948",
         "0.0",
         "0.0"
        ],
        [
         "2025-01-03 00:00:00",
         "96984.79",
         "98976.91",
         "96100.01",
         "98174.18",
         "15253.82936",
         "0.0",
         "0.0"
        ],
        [
         "2025-01-04 00:00:00",
         "98174.17",
         "98778.43",
         "97514.79",
         "98220.5",
         "8990.05651",
         "0.0",
         "0.0"
        ],
        [
         "2025-01-05 00:00:00",
         "98220.51",
         "98836.85",
         "97276.79",
         "98363.61",
         "8095.63723",
         "0.0",
         "0.0"
        ],
        [
         "2025-01-06 00:00:00",
         "98363.61",
         "102480.0",
         "97920.0",
         "102235.6",
         "25263.43375",
         "0.0",
         "0.0"
        ],
        [
         "2025-01-07 00:00:00",
         "102235.6",
         "102724.38",
         "96181.81",
         "96954.61",
         "32059.87537",
         "0.0",
         "0.0"
        ],
        [
         "2025-01-08 00:00:00",
         "96954.6",
         "97268.65",
         "92500.9",
         "95060.61",
         "33704.67894",
         "0.0",
         "0.0"
        ],
        [
         "2025-01-09 00:00:00",
         "95060.61",
         "95382.32",
         "91203.67",
         "92552.49",
         "34544.83685",
         "0.0",
         "0.0"
        ],
        [
         "2025-01-10 00:00:00",
         "92552.49",
         "95836.0",
         "92206.02",
         "94726.11",
         "31482.86424",
         "0.0",
         "0.0"
        ],
        [
         "2025-01-11 00:00:00",
         "94726.1",
         "95050.94",
         "93831.73",
         "94599.99",
         "7047.9043",
         "0.0",
         "0.0"
        ],
        [
         "2025-01-12 00:00:00",
         "94599.99",
         "95450.1",
         "93711.19",
         "94545.06",
         "8606.86622",
         "0.0",
         "0.0"
        ],
        [
         "2025-01-13 00:00:00",
         "94545.07",
         "95940.0",
         "89256.69",
         "94536.1",
         "42619.56423",
         "0.0",
         "0.0"
        ],
        [
         "2025-01-14 00:00:00",
         "94536.11",
         "97371.0",
         "94346.22",
         "96560.86",
         "27846.61753",
         "0.0",
         "0.0"
        ],
        [
         "2025-01-15 00:00:00",
         "96560.85",
         "100681.94",
         "96500.0",
         "100497.35",
         "30509.99179",
         "0.0",
         "0.0"
        ],
        [
         "2025-01-16 00:00:00",
         "100497.35",
         "100866.66",
         "97335.13",
         "99987.3",
         "27832.85317",
         "0.0",
         "0.0"
        ],
        [
         "2025-01-17 00:00:00",
         "99987.3",
         "105865.22",
         "99950.77",
         "104077.48",
         "39171.85292",
         "0.0",
         "0.0"
        ],
        [
         "2025-01-18 00:00:00",
         "104077.47",
         "104988.88",
         "102277.55",
         "104556.23",
         "24307.82998",
         "0.0",
         "0.0"
        ],
        [
         "2025-01-19 00:00:00",
         "104556.23",
         "106422.43",
         "99651.6",
         "101331.57",
         "43397.28298",
         "0.0",
         "0.0"
        ],
        [
         "2025-01-20 00:00:00",
         "101331.57",
         "109588.0",
         "99550.0",
         "102260.01",
         "89529.231732",
         "0.0",
         "0.0"
        ],
        [
         "2025-01-21 00:00:00",
         "102260.0",
         "107240.81",
         "100119.04",
         "106143.82",
         "45941.02002",
         "0.0",
         "0.0"
        ],
        [
         "2025-01-22 00:00:00",
         "106143.82",
         "106394.46",
         "103339.12",
         "103706.66",
         "22248.69254",
         "0.0",
         "0.0"
        ],
        [
         "2025-01-23 00:00:00",
         "103706.66",
         "106850.0",
         "101262.28",
         "103910.34",
         "53953.12031",
         "0.0",
         "0.0"
        ],
        [
         "2025-01-24 00:00:00",
         "103910.35",
         "107120.0",
         "102750.0",
         "104870.5",
         "23609.24017",
         "0.0",
         "0.0"
        ],
        [
         "2025-01-25 00:00:00",
         "104870.51",
         "105286.52",
         "104106.09",
         "104746.85",
         "9068.32377",
         "0.0",
         "0.0"
        ],
        [
         "2025-01-26 00:00:00",
         "104746.86",
         "105500.0",
         "102520.44",
         "102620.0",
         "9812.51238",
         "0.0",
         "0.0"
        ],
        [
         "2025-01-27 00:00:00",
         "102620.01",
         "103260.0",
         "97777.77",
         "102082.83",
         "50758.1341",
         "0.0",
         "0.0"
        ],
        [
         "2025-01-28 00:00:00",
         "102082.83",
         "103800.0",
         "100272.68",
         "101335.52",
         "22022.05765",
         "0.0",
         "0.0"
        ],
        [
         "2025-01-29 00:00:00",
         "101335.52",
         "104782.68",
         "101328.01",
         "103733.24",
         "23155.35802",
         "0.0",
         "0.0"
        ],
        [
         "2025-01-30 00:00:00",
         "103733.25",
         "106457.44",
         "103278.54",
         "104722.94",
         "19374.07472",
         "0.0",
         "0.0"
        ],
        [
         "2025-01-31 00:00:00",
         "104722.94",
         "106012.0",
         "101560.0",
         "102429.56",
         "21983.18193",
         "0.0",
         "0.0"
        ],
        [
         "2025-02-01 00:00:00",
         "102429.56",
         "102783.71",
         "100279.51",
         "100635.65",
         "12290.95747",
         "0.0",
         "0.0"
        ],
        [
         "2025-02-02 00:00:00",
         "100635.66",
         "101456.6",
         "96150.0",
         "97700.59",
         "34619.49939",
         "-291.6530780441062",
         "-291.6530780441062"
        ],
        [
         "2025-02-03 00:00:00",
         "97700.59",
         "102500.01",
         "91231.0",
         "101328.52",
         "75164.7385",
         "68.84835852420474",
         "68.84835852420474"
        ],
        [
         "2025-02-04 00:00:00",
         "101328.51",
         "101732.31",
         "96150.0",
         "97763.13",
         "40267.98697",
         "-285.43858111528243",
         "-285.43858111528243"
        ],
        [
         "2025-02-05 00:00:00",
         "97763.14",
         "99149.0",
         "96155.0",
         "96612.43",
         "26233.30444",
         "-399.78174734482855",
         "-399.78174734482855"
        ],
        [
         "2025-02-06 00:00:00",
         "96612.44",
         "99120.0",
         "95676.64",
         "96554.35",
         "23515.20405",
         "-405.5530614098425",
         "-405.5530614098425"
        ],
        [
         "2025-02-07 00:00:00",
         "96554.35",
         "100137.99",
         "95620.34",
         "96506.8",
         "31794.22065",
         "-410.2780266955069",
         "-410.2780266955069"
        ],
        [
         "2025-02-08 00:00:00",
         "96506.8",
         "96880.0",
         "95688.0",
         "96444.74",
         "10147.24294",
         "-416.4448268138749",
         "-416.4448268138749"
        ],
        [
         "2025-02-09 00:00:00",
         "96444.75",
         "97323.09",
         "94713.0",
         "96462.75",
         "14120.91613",
         "-414.65520273827497",
         "-414.65520273827497"
        ],
        [
         "2025-02-10 00:00:00",
         "96462.75",
         "98345.0",
         "95256.0",
         "97430.82",
         "20572.87537",
         "-318.4596792031771",
         "-318.4596792031771"
        ],
        [
         "2025-02-11 00:00:00",
         "97430.82",
         "98478.42",
         "94876.88",
         "95778.2",
         "18647.76379",
         "-482.6778102314838",
         "-482.6778102314838"
        ],
        [
         "2025-02-12 00:00:00",
         "95778.21",
         "98119.99",
         "94088.23",
         "97869.99",
         "29151.16625",
         "-274.8200786878133",
         "-274.8200786878133"
        ],
        [
         "2025-02-13 00:00:00",
         "97870.0",
         "98083.91",
         "95217.36",
         "96608.14",
         "19921.77616",
         "-400.20803758826696",
         "-400.20803758826696"
        ],
        [
         "2025-02-14 00:00:00",
         "96608.13",
         "98826.0",
         "96252.82",
         "97500.48",
         "18173.02646",
         "-311.5376795859447",
         "-311.5376795859447"
        ],
        [
         "2025-02-15 00:00:00",
         "97500.47",
         "97972.26",
         "97223.58",
         "97569.66",
         "7349.37683",
         "-304.66337677916454",
         "-304.66337677916454"
        ],
        [
         "2025-02-16 00:00:00",
         "97569.67",
         "97704.47",
         "96046.18",
         "96118.12",
         "8191.4249",
         "-448.90051896117257",
         "-448.90051896117257"
        ],
        [
         "2025-02-17 00:00:00",
         "96118.12",
         "97046.59",
         "95205.0",
         "95780.0",
         "16492.0451",
         "-482.49894719227814",
         "-482.49894719227814"
        ],
        [
         "2025-02-18 00:00:00",
         "95780.01",
         "96753.91",
         "93388.09",
         "95671.74",
         "23368.19471",
         "-493.25656531690584",
         "-493.25656531690584"
        ],
        [
         "2025-02-19 00:00:00",
         "95671.74",
         "96899.99",
         "95029.99",
         "96644.37",
         "16438.50954",
         "-396.6079220824904",
         "-396.6079220824904"
        ]
       ],
       "shape": {
        "columns": 7,
        "rows": 103
       }
      },
      "text/html": [
       "<div>\n",
       "<style scoped>\n",
       "    .dataframe tbody tr th:only-of-type {\n",
       "        vertical-align: middle;\n",
       "    }\n",
       "\n",
       "    .dataframe tbody tr th {\n",
       "        vertical-align: top;\n",
       "    }\n",
       "\n",
       "    .dataframe thead th {\n",
       "        text-align: right;\n",
       "    }\n",
       "</style>\n",
       "<table border=\"1\" class=\"dataframe\">\n",
       "  <thead>\n",
       "    <tr style=\"text-align: right;\">\n",
       "      <th></th>\n",
       "      <th>Open</th>\n",
       "      <th>High</th>\n",
       "      <th>Low</th>\n",
       "      <th>Close</th>\n",
       "      <th>Volume</th>\n",
       "      <th>pos-1-pnl</th>\n",
       "      <th>total_pnl</th>\n",
       "    </tr>\n",
       "    <tr>\n",
       "      <th>Date</th>\n",
       "      <th></th>\n",
       "      <th></th>\n",
       "      <th></th>\n",
       "      <th></th>\n",
       "      <th></th>\n",
       "      <th></th>\n",
       "      <th></th>\n",
       "    </tr>\n",
       "  </thead>\n",
       "  <tbody>\n",
       "    <tr>\n",
       "      <th>2025-01-01</th>\n",
       "      <td>93576.00</td>\n",
       "      <td>95151.15</td>\n",
       "      <td>92888.00</td>\n",
       "      <td>94591.79</td>\n",
       "      <td>10373.32613</td>\n",
       "      <td>0.000000</td>\n",
       "      <td>0.000000</td>\n",
       "    </tr>\n",
       "    <tr>\n",
       "      <th>2025-01-02</th>\n",
       "      <td>94591.78</td>\n",
       "      <td>97839.50</td>\n",
       "      <td>94392.00</td>\n",
       "      <td>96984.79</td>\n",
       "      <td>21970.48948</td>\n",
       "      <td>0.000000</td>\n",
       "      <td>0.000000</td>\n",
       "    </tr>\n",
       "    <tr>\n",
       "      <th>2025-01-03</th>\n",
       "      <td>96984.79</td>\n",
       "      <td>98976.91</td>\n",
       "      <td>96100.01</td>\n",
       "      <td>98174.18</td>\n",
       "      <td>15253.82936</td>\n",
       "      <td>0.000000</td>\n",
       "      <td>0.000000</td>\n",
       "    </tr>\n",
       "    <tr>\n",
       "      <th>2025-01-04</th>\n",
       "      <td>98174.17</td>\n",
       "      <td>98778.43</td>\n",
       "      <td>97514.79</td>\n",
       "      <td>98220.50</td>\n",
       "      <td>8990.05651</td>\n",
       "      <td>0.000000</td>\n",
       "      <td>0.000000</td>\n",
       "    </tr>\n",
       "    <tr>\n",
       "      <th>2025-01-05</th>\n",
       "      <td>98220.51</td>\n",
       "      <td>98836.85</td>\n",
       "      <td>97276.79</td>\n",
       "      <td>98363.61</td>\n",
       "      <td>8095.63723</td>\n",
       "      <td>0.000000</td>\n",
       "      <td>0.000000</td>\n",
       "    </tr>\n",
       "    <tr>\n",
       "      <th>...</th>\n",
       "      <td>...</td>\n",
       "      <td>...</td>\n",
       "      <td>...</td>\n",
       "      <td>...</td>\n",
       "      <td>...</td>\n",
       "      <td>...</td>\n",
       "      <td>...</td>\n",
       "    </tr>\n",
       "    <tr>\n",
       "      <th>2025-04-09</th>\n",
       "      <td>76322.42</td>\n",
       "      <td>83588.00</td>\n",
       "      <td>74620.00</td>\n",
       "      <td>82615.22</td>\n",
       "      <td>75488.28772</td>\n",
       "      <td>-1447.908227</td>\n",
       "      <td>-1447.908227</td>\n",
       "    </tr>\n",
       "    <tr>\n",
       "      <th>2025-04-10</th>\n",
       "      <td>82615.22</td>\n",
       "      <td>82753.21</td>\n",
       "      <td>78464.36</td>\n",
       "      <td>79607.30</td>\n",
       "      <td>33284.80718</td>\n",
       "      <td>-1447.908227</td>\n",
       "      <td>-1447.908227</td>\n",
       "    </tr>\n",
       "    <tr>\n",
       "      <th>2025-04-11</th>\n",
       "      <td>79607.30</td>\n",
       "      <td>84300.00</td>\n",
       "      <td>78969.58</td>\n",
       "      <td>83423.84</td>\n",
       "      <td>34435.43797</td>\n",
       "      <td>-1447.908227</td>\n",
       "      <td>-1447.908227</td>\n",
       "    </tr>\n",
       "    <tr>\n",
       "      <th>2025-04-12</th>\n",
       "      <td>83423.83</td>\n",
       "      <td>85905.00</td>\n",
       "      <td>82792.95</td>\n",
       "      <td>85276.90</td>\n",
       "      <td>18470.74437</td>\n",
       "      <td>-1447.908227</td>\n",
       "      <td>-1447.908227</td>\n",
       "    </tr>\n",
       "    <tr>\n",
       "      <th>2025-04-13</th>\n",
       "      <td>85276.91</td>\n",
       "      <td>86100.00</td>\n",
       "      <td>84277.03</td>\n",
       "      <td>84644.20</td>\n",
       "      <td>12655.68027</td>\n",
       "      <td>-1447.908227</td>\n",
       "      <td>-1447.908227</td>\n",
       "    </tr>\n",
       "  </tbody>\n",
       "</table>\n",
       "<p>103 rows × 7 columns</p>\n",
       "</div>"
      ],
      "text/plain": [
       "                Open      High       Low     Close       Volume    pos-1-pnl  \\\n",
       "Date                                                                           \n",
       "2025-01-01  93576.00  95151.15  92888.00  94591.79  10373.32613     0.000000   \n",
       "2025-01-02  94591.78  97839.50  94392.00  96984.79  21970.48948     0.000000   \n",
       "2025-01-03  96984.79  98976.91  96100.01  98174.18  15253.82936     0.000000   \n",
       "2025-01-04  98174.17  98778.43  97514.79  98220.50   8990.05651     0.000000   \n",
       "2025-01-05  98220.51  98836.85  97276.79  98363.61   8095.63723     0.000000   \n",
       "...              ...       ...       ...       ...          ...          ...   \n",
       "2025-04-09  76322.42  83588.00  74620.00  82615.22  75488.28772 -1447.908227   \n",
       "2025-04-10  82615.22  82753.21  78464.36  79607.30  33284.80718 -1447.908227   \n",
       "2025-04-11  79607.30  84300.00  78969.58  83423.84  34435.43797 -1447.908227   \n",
       "2025-04-12  83423.83  85905.00  82792.95  85276.90  18470.74437 -1447.908227   \n",
       "2025-04-13  85276.91  86100.00  84277.03  84644.20  12655.68027 -1447.908227   \n",
       "\n",
       "              total_pnl  \n",
       "Date                     \n",
       "2025-01-01     0.000000  \n",
       "2025-01-02     0.000000  \n",
       "2025-01-03     0.000000  \n",
       "2025-01-04     0.000000  \n",
       "2025-01-05     0.000000  \n",
       "...                 ...  \n",
       "2025-04-09 -1447.908227  \n",
       "2025-04-10 -1447.908227  \n",
       "2025-04-11 -1447.908227  \n",
       "2025-04-12 -1447.908227  \n",
       "2025-04-13 -1447.908227  \n",
       "\n",
       "[103 rows x 7 columns]"
      ]
     },
     "execution_count": 16,
     "metadata": {},
     "output_type": "execute_result"
    }
   ],
   "source": [
    "backtest = Backtest(data, BuyOnDateStrategy)\n",
    "\n",
    "backtest.run()\n",
    "\n",
    "backtest.pnl_df"
   ]
  },
  {
   "cell_type": "code",
   "execution_count": 17,
   "metadata": {},
   "outputs": [
    {
     "name": "stdout",
     "output_type": "stream",
     "text": [
      "Backtest Statistics:\n",
      "total_return: -1447.9082265670058\n",
      "max_drawdown: -1697.0554970275953\n",
      "sharpe_ratio: -0.1373797382507362\n",
      "num_trades: 1\n",
      "win_rate: 0.0\n",
      "avg_win: 0.0\n",
      "avg_loss: -1447.9082265670052\n"
     ]
    }
   ],
   "source": [
    "stats = backtest.stats()"
   ]
  },
  {
   "cell_type": "code",
   "execution_count": null,
   "metadata": {},
   "outputs": [],
   "source": [
    "# Create a series with indices as entry dates and \"Open\" prices from backtest.pnl_df\n",
    "entry_series = backtest.pnl_df.loc[[pos.entry_time for pos in backtest.positions], 'Open']\n",
    "\n",
    "# Create a series with indices as exit dates and \"Open\" prices from backtest.pnl_df\n",
    "exit_series = backtest.pnl_df.loc[[pos.exit_time for pos in backtest.positions], 'Open']\n"
   ]
  },
  {
   "cell_type": "code",
   "execution_count": 28,
   "metadata": {},
   "outputs": [
    {
     "data": {
      "image/png": "[encoded data removed]",
      "text/plain": [
       "<Figure size 1400x600 with 1 Axes>"
      ]
     },
     "metadata": {},
     "output_type": "display_data"
    },
    {
     "data": {
      "image/png": "[encoded data removed]",
      "text/plain": [
       "<Figure size 1400x200 with 1 Axes>"
      ]
     },
     "metadata": {},
     "output_type": "display_data"
    }
   ],
   "source": [
    "from matplotlib import pyplot as plt\n",
    "\n",
    "df = backtest.pnl_df\n",
    "\n",
    "plt.figure(figsize=(14, 6))\n",
    "plt.plot(df['Open'], label=\"Open Price\", alpha=0.7)\n",
    "\n",
    "plt.scatter(entry_series.index, entry_series, marker='^', color=\"green\", label=\"Buy\", s=100)\n",
    "\n",
    "plt.scatter(exit_series.index, exit_series, marker='v', color=\"red\", label=\"Sell\", s=100)\n",
    "\n",
    "for idx, price in entry_series.items():\n",
    "    plt.annotate(idx.strftime('%Y-%m-%d'), xy=(idx, price), xytext=(0, 10), \n",
    "                 textcoords='offset points', ha='center', fontsize=8, color='green')\n",
    "    \n",
    "for idx, price in exit_series.items():\n",
    "    plt.annotate(idx.strftime('%Y-%m-%d'), xy=(idx, price), xytext=(0, -15), \n",
    "                 textcoords='offset points', ha='center', fontsize=8, color='red')\n",
    "\n",
    "plt.title(\"BTC/USDT with Buy/Sell Signals\")\n",
    "plt.xlabel('Date')\n",
    "plt.ylabel('Price (USDT)')\n",
    "plt.legend()\n",
    "plt.grid(True)\n",
    "plt.show()\n",
    "\n",
    "# Plot the Total PnL\n",
    "plt.figure(figsize=(14, 2))\n",
    "plt.plot(df['total_pnl'], label=\"Total PnL\", alpha=0.7)\n",
    "plt.title(\"Total PnL Over Time\")\n",
    "plt.xlabel('Date')\n",
    "plt.ylabel('Total PnL (USDT)')\n",
    "plt.legend()\n",
    "plt.grid(True)\n",
    "plt.show()"
   ]
  },
  {
   "cell_type": "code",
   "execution_count": null,
   "metadata": {},
   "outputs": [],
   "source": []
  }
 ],
 "metadata": {
  "kernelspec": {
   "display_name": "quant-demo",
   "language": "python",
   "name": "python3"
  },
  "language_info": {
   "codemirror_mode": {
    "name": "ipython",
    "version": 3
   },
   "file_extension": ".py",
   "mimetype": "text/x-python",
   "name": "python",
   "nbconvert_exporter": "python",
   "pygments_lexer": "ipython3",
   "version": "3.10.16"
  }
 },
 "nbformat": 4,
 "nbformat_minor": 2
}
