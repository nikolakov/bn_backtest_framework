{
 "cells": [
  {
   "cell_type": "code",
   "execution_count": null,
   "metadata": {},
   "outputs": [],
   "source": [
    "import sys\n",
    "from pathlib import Path\n",
    "\n",
    "# Add the 'backtest' directory to the system path\n",
    "notebook_dir = Path().resolve()\n",
    "backtest_dir = notebook_dir.parent / 'backtest'\n",
    "sys.path.append(str(backtest_dir))"
   ]
  },
  {
   "cell_type": "code",
   "execution_count": null,
   "metadata": {},
   "outputs": [],
   "source": [
    "import pandas as pd\n",
    "from backtest import Backtest, Strategy, Order"
   ]
  },
  {
   "cell_type": "code",
   "execution_count": null,
   "metadata": {},
   "outputs": [],
   "source": [
    "# First run the get_data.ipynb notebook to generate the data file\n",
    "# or use the code from get_data.ipynb here to download the data directly\n",
    "\n",
    "# Read the OHLCV data from data/BTCUSDT.csv\n",
    "# Use small subset of data for easier analysis\n",
    "data = pd.read_csv('data/BTCUSDT.csv', index_col='Date', parse_dates=True).loc['2025-01-01':]"
   ]
  },
  {
   "cell_type": "code",
   "execution_count": null,
   "metadata": {},
   "outputs": [],
   "source": [
    "class LimitOrderStrategy(Strategy):\n",
    "    \"\"\"\n",
    "    A strategy that places a limit order to buy at a specific price\n",
    "    \"\"\"\n",
    "\n",
    "    def __init__(self):\n",
    "        self.buy_date = pd.Timestamp(\"2025-02-01\")\n",
    "        self.buy_price = 85000.0\n",
    "\n",
    "    def on_candle(self, historical_data, positions_book):\n",
    "        if historical_data.index[-1] == self.buy_date:\n",
    "            return [Order(action=\"enter\", value=10000.0, price=self.buy_price)]\n",
    "        return []"
   ]
  },
  {
   "cell_type": "code",
   "execution_count": null,
   "metadata": {},
   "outputs": [],
   "source": [
    "backtest = Backtest(data, LimitOrderStrategy, equity=20000.0)\n",
    "\n",
    "backtest.run()"
   ]
  },
  {
   "cell_type": "code",
   "execution_count": null,
   "metadata": {},
   "outputs": [],
   "source": [
    "stats = backtest.stats()"
   ]
  },
  {
   "cell_type": "code",
   "execution_count": null,
   "metadata": {},
   "outputs": [],
   "source": [
    "# Entry series using actual entry prices\n",
    "entry_series = pd.Series(\n",
    "    {pos.entry_time: pos.entry_price for pos in backtest.positions}\n",
    ")\n",
    "\n",
    "# Create a series of \"Open\" prices at exit dates from backtest.pnl_df\n",
    "exited_positions = [pos for pos in backtest.positions if pos.exit_time is not None]\n",
    "# Exit series using actual exit prices\n",
    "exit_series = pd.Series(\n",
    "    {pos.exit_time: pos.exit_price for pos in exited_positions}\n",
    ")\n"
   ]
  },
  {
   "cell_type": "code",
   "execution_count": null,
   "metadata": {},
   "outputs": [],
   "source": [
    "from matplotlib import pyplot as plt\n",
    "\n",
    "df = backtest.pnl_df\n",
    "\n",
    "plt.figure(figsize=(14, 6))\n",
    "plt.plot(df['Close'], label=\"Close Price\", alpha=0.7)\n",
    "\n",
    "plt.scatter(entry_series.index, entry_series, marker='^', color=\"green\", label=\"Buy\", s=100)\n",
    "\n",
    "plt.scatter(exit_series.index, exit_series, marker='v', color=\"red\", label=\"Sell\", s=100)\n",
    "\n",
    "for idx, price in entry_series.items():\n",
    "    plt.annotate(idx.strftime('%Y-%m-%d'), xy=(idx, price), xytext=(0, 10), \n",
    "                 textcoords='offset points', ha='center', fontsize=8, color='green')\n",
    "    \n",
    "for idx, price in exit_series.items():\n",
    "    plt.annotate(idx.strftime('%Y-%m-%d'), xy=(idx, price), xytext=(0, -15), \n",
    "                 textcoords='offset points', ha='center', fontsize=8, color='red')\n",
    "\n",
    "plt.title(\"BTC/USDT with Buy/Sell Signals\")\n",
    "plt.xlabel('Date')\n",
    "plt.ylabel('Price (USDT)')\n",
    "plt.legend()\n",
    "plt.grid(True)\n",
    "plt.show()\n",
    "\n",
    "# Plot the Total PnL\n",
    "plt.figure(figsize=(14, 2))\n",
    "plt.plot(df['total_pnl'], label=\"Total PnL\", alpha=0.7)\n",
    "plt.title(\"Total PnL Over Time\")\n",
    "plt.xlabel('Date')\n",
    "plt.ylabel('Total PnL (USDT)')\n",
    "plt.legend()\n",
    "plt.grid(True)\n",
    "plt.show()"
   ]
  },
  {
   "cell_type": "code",
   "execution_count": null,
   "metadata": {},
   "outputs": [],
   "source": []
  }
 ],
 "metadata": {
  "kernelspec": {
   "display_name": "quant-demo",
   "language": "python",
   "name": "python3"
  },
  "language_info": {
   "codemirror_mode": {
    "name": "ipython",
    "version": 3
   },
   "file_extension": ".py",
   "mimetype": "text/x-python",
   "name": "python",
   "nbconvert_exporter": "python",
   "pygments_lexer": "ipython3",
   "version": "3.10.16"
  }
 },
 "nbformat": 4,
 "nbformat_minor": 2
}
